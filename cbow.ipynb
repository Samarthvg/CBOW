{
 "cells": [
  {
   "cell_type": "code",
   "execution_count": 1,
   "id": "082ffcdf",
   "metadata": {},
   "outputs": [],
   "source": [
    "from nltk.tokenize import sent_tokenize, word_tokenize\n",
    "import warnings\n",
    "  \n",
    "warnings.filterwarnings(action = 'ignore')"
   ]
  },
  {
   "cell_type": "code",
   "execution_count": 2,
   "id": "8232887b",
   "metadata": {},
   "outputs": [],
   "source": [
    "import gensim\n",
    "from gensim.models import Word2Vec "
   ]
  },
  {
   "cell_type": "code",
   "execution_count": 3,
   "id": "8ac32d89",
   "metadata": {},
   "outputs": [],
   "source": [
    "corpus = open(\"flickr8k.txt\", \"r\")\n",
    "c = corpus.read()"
   ]
  },
  {
   "cell_type": "code",
   "execution_count": 4,
   "id": "efdc0f32",
   "metadata": {},
   "outputs": [],
   "source": [
    "f = c.replace(\"\\n\", \" \")\n",
    "  \n",
    "data = []"
   ]
  },
  {
   "cell_type": "code",
   "execution_count": 5,
   "id": "eb875453",
   "metadata": {},
   "outputs": [],
   "source": [
    "# iterate through sentences\n",
    "for i in sent_tokenize(f):\n",
    "    temp = []\n",
    "      \n",
    "    # tokenize the sentence into words\n",
    "    for j in word_tokenize(i):\n",
    "        temp.append(j.lower())\n",
    "  \n",
    "    data.append(temp)"
   ]
  },
  {
   "cell_type": "code",
   "execution_count": 6,
   "id": "72358e35",
   "metadata": {},
   "outputs": [],
   "source": [
    "cbow = gensim.models.Word2Vec(data, min_count = 1,vector_size = 300, window = 10, alpha = 0.05, epochs = 30)"
   ]
  },
  {
   "cell_type": "code",
   "execution_count": 7,
   "id": "5e87753b",
   "metadata": {},
   "outputs": [],
   "source": [
    "syntactic_1 = ['male','sit', 'reads', 'boy', 'large']\n",
    "syntactic_2 = ['female','sitting', 'reading', 'girl', 'larger']"
   ]
  },
  {
   "cell_type": "code",
   "execution_count": 8,
   "id": "72cf4cc1",
   "metadata": {},
   "outputs": [
    {
     "name": "stdout",
     "output_type": "stream",
     "text": [
      "male female  :  0.31120846\n",
      "sit sitting  :  0.58030945\n",
      "reads reading  :  0.58717674\n",
      "boy girl  :  0.5677854\n",
      "large larger  :  0.28754124\n",
      "Syntactic result :  0.4668042540550232\n"
     ]
    }
   ],
   "source": [
    "#Syntactic relations\n",
    "mean_syntactic = 0 \n",
    "for i, j in zip(syntactic_1, syntactic_2):\n",
    "    l = cbow.wv.similarity(i,j)\n",
    "    print(i,j,\" : \",l)\n",
    "    mean_syntactic +=l\n",
    "\n",
    "print(\"Syntactic result : \",mean_syntactic/5)"
   ]
  },
  {
   "cell_type": "code",
   "execution_count": 9,
   "id": "8f999341",
   "metadata": {},
   "outputs": [],
   "source": [
    "semantic_1 = ['white', 'tennis', 'mountain', 'costumes', 'ears', 'reads', 'children', 'skirts', 'teenage', 'food']\n",
    "semantic_2 = ['black', 'player', 'hills', 'outfits', 'bicycles', 'books', 'kids', 't-shirts', 'young', 'coffee']"
   ]
  },
  {
   "cell_type": "code",
   "execution_count": 10,
   "id": "6502be75",
   "metadata": {},
   "outputs": [
    {
     "name": "stdout",
     "output_type": "stream",
     "text": [
      "white black  :  0.5193636\n",
      "tennis player  :  0.09923799\n",
      "mountain hills  :  0.37129384\n",
      "costumes outfits  :  0.6559904\n",
      "ears bicycles  :  0.11688483\n",
      "reads books  :  0.12877798\n",
      "children kids  :  0.7616804\n",
      "skirts t-shirts  :  0.46751222\n",
      "teenage young  :  0.48285952\n",
      "food coffee  :  0.20752952\n",
      "Semantic result :  0.3811130329966545\n"
     ]
    }
   ],
   "source": [
    "mean_semantic = 0 \n",
    "for i, j in zip(semantic_1, semantic_2):\n",
    "    l = cbow.wv.similarity(i,j)\n",
    "    print(i,j,\" : \",l)\n",
    "    mean_semantic +=l\n",
    "\n",
    "print(\"Semantic result : \",mean_semantic/10)"
   ]
  },
  {
   "cell_type": "code",
   "execution_count": null,
   "id": "036e7519",
   "metadata": {},
   "outputs": [],
   "source": []
  }
 ],
 "metadata": {
  "kernelspec": {
   "display_name": "Python 3 (ipykernel)",
   "language": "python",
   "name": "python3"
  },
  "language_info": {
   "codemirror_mode": {
    "name": "ipython",
    "version": 3
   },
   "file_extension": ".py",
   "mimetype": "text/x-python",
   "name": "python",
   "nbconvert_exporter": "python",
   "pygments_lexer": "ipython3",
   "version": "3.9.0"
  }
 },
 "nbformat": 4,
 "nbformat_minor": 5
}
